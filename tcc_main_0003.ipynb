{
 "cells": [
  {
   "cell_type": "code",
   "execution_count": 1,
   "metadata": {},
   "outputs": [],
   "source": [
    "import matplotlib.pyplot as plt\n",
    "\n",
    "from sklearn.metrics import mean_squared_error as mse\n",
    "from sklearn.metrics import r2_score as r2\n",
    "from scipy.stats import norm\n",
    "from random import random as rnd\n",
    "from scipy.stats import shapiro\n",
    "from scipy.stats import normaltest\n",
    "from scipy import stats\n",
    "\n",
    "import matplotlib.pyplot as plt\n",
    "import numpy as np\n",
    "import pandas as pd\n",
    "import seaborn as sns\n",
    "\n",
    "import copy\n",
    "import scipy\n",
    "import math\n",
    "import pickle\n",
    "import random\n",
    "import time\n",
    "import itertools\n",
    "\n",
    "%matplotlib inline"
   ]
  },
  {
   "cell_type": "markdown",
   "metadata": {},
   "source": [
    "### Função para calcular salvar e carregar objetos"
   ]
  },
  {
   "cell_type": "code",
   "execution_count": 2,
   "metadata": {},
   "outputs": [],
   "source": [
    "def save_object(obj, filename):\n",
    "    with open(filename, 'wb') as output:\n",
    "        pickle.dump(obj, output, pickle.HIGHEST_PROTOCOL)\n",
    "        \n",
    "def load_object(filename):\n",
    "    with open(filename, 'rb') as fp:\n",
    "        file = pickle.load(fp)"
   ]
  },
  {
   "cell_type": "markdown",
   "metadata": {},
   "source": [
    "### Função para calcular erro de predição"
   ]
  },
  {
   "cell_type": "code",
   "execution_count": 487,
   "metadata": {},
   "outputs": [],
   "source": [
    "def nrmse(m, ano_eleicao, votacao, df, metric):\n",
    "    list_of_series = [x.up_result for x in m.space]\n",
    "    list_of_ids = [x.unique_id for x in m.space]\n",
    "    cols = m.space[0].up_result.index\n",
    "\n",
    "    series = pd.DataFrame(list_of_series, columns=cols)\n",
    "    ids = pd.DataFrame(list_of_ids, columns=['unique_id'])\n",
    "\n",
    "    prev = pd.concat([ids,series], axis=1)\n",
    "\n",
    "    if metric=='nrmse':\n",
    "        df_next = votacao[votacao['ano']==ano_eleicao+4]\n",
    "        df_next = df_next.drop(['ano', 'votos'], axis=1)\n",
    "        prev = mse(df_next, prev) / mse(df_next, df)\n",
    "    elif metric=='rmse':\n",
    "        df_next = votacao[votacao['ano']==ano_eleicao+4]\n",
    "        df_next = df_next.drop(['ano', 'votos'], axis=1)\n",
    "        prev = np.sqrt(mse(df_next, prev))\n",
    "    elif metric=='rmse_g4':\n",
    "        df_next = votacao[votacao['ano']==ano_eleicao+4]\n",
    "        df_next = df_next.drop(['ano', 'votos'], axis=1)\n",
    "        df_mean = df_next.drop(['unique_id'], axis=1)\n",
    "        df_mean.iloc[:,:] = df.iloc[:,1:].values.flatten().mean()\n",
    "        df_rnd = np.array([np.random.dirichlet(np.ones(35),size=1)[0] for x in range(6038)])\n",
    "        prev = [np.sqrt(mse(df_next, prev)),\n",
    "                np.sqrt(mse(df_next, df)),\n",
    "                np.sqrt(mse(df_next.iloc[:,1:], df_mean)),\n",
    "                np.sqrt(mse(df_next.iloc[:,1:], df_rnd))]\n",
    "    elif metric=='rmse_g8':\n",
    "        df_next = votacao[votacao['ano']==ano_eleicao+8]\n",
    "        df_next = df_next.drop(['ano', 'votos'], axis=1)\n",
    "        df_mean = df_next.drop(['unique_id'], axis=1)\n",
    "        df_mean.iloc[:,:] = df.iloc[:,1:].values.flatten().mean()\n",
    "        df_rnd = np.array([np.random.dirichlet(np.ones(35),size=1)[0] for x in range(6038)])\n",
    "        prev = [np.sqrt(mse(df_next, prev)),\n",
    "                np.sqrt(mse(df_next, df)),\n",
    "                np.sqrt(mse(df_next.iloc[:,1:], df_mean)),\n",
    "                np.sqrt(mse(df_next.iloc[:,1:], df_rnd))]\n",
    "    elif metric=='rmse_g12':\n",
    "        df_next = votacao[votacao['ano']==ano_eleicao+12]\n",
    "        df_next = df_next.drop(['ano', 'votos'], axis=1)\n",
    "        df_mean = df_next.drop(['unique_id'], axis=1)\n",
    "        df_mean.iloc[:,:] = df.iloc[:,1:].values.flatten().mean()\n",
    "        df_rnd = np.array([np.random.dirichlet(np.ones(35),size=1)[0] for x in range(6038)])\n",
    "        prev = [np.sqrt(mse(df_next, prev)),\n",
    "                np.sqrt(mse(df_next, df)),\n",
    "                np.sqrt(mse(df_next.iloc[:,1:], df_mean)),\n",
    "                np.sqrt(mse(df_next.iloc[:,1:], df_rnd))]\n",
    "    else:\n",
    "        prev = 0\n",
    "    \n",
    "    return prev"
   ]
  },
  {
   "cell_type": "markdown",
   "metadata": {},
   "source": [
    "### Função para calcular R2 ajustado"
   ]
  },
  {
   "cell_type": "code",
   "execution_count": 4,
   "metadata": {},
   "outputs": [],
   "source": [
    "def r2_adj(y_true, y_pred, n, p):\n",
    "    r2_score = r2(y_true, y_pred)\n",
    "    return 1 - ((1 - r2_score)*((n-1)/(n-p-1)))"
   ]
  },
  {
   "cell_type": "markdown",
   "metadata": {},
   "source": [
    "### Importa arquivo de metadados das cidades_zonas"
   ]
  },
  {
   "cell_type": "code",
   "execution_count": 5,
   "metadata": {},
   "outputs": [],
   "source": [
    "cidade_zona = pd.read_csv(\"./working_data/cidade_zona.csv\", sep=\",\")"
   ]
  },
  {
   "cell_type": "code",
   "execution_count": 8,
   "metadata": {
    "scrolled": false
   },
   "outputs": [],
   "source": [
    "## Cria chave única\n",
    "## Descrição: primeiro dígito é 1 se é uma zona, 2 se cidade.\n",
    "cidade_zona['unique_id'] = np.where(cidade_zona['cidade_b']==1, \\\n",
    "                                    (cidade_zona['cod_cidade'] + cidade_zona['cidade_b']*2000000), \\\n",
    "                                    cidade_zona['numero_zona'])"
   ]
  },
  {
   "cell_type": "code",
   "execution_count": 9,
   "metadata": {},
   "outputs": [],
   "source": [
    "chave = cidade_zona.loc[:,('unique_id', 'cod_cidade', 'numero_zona')]"
   ]
  },
  {
   "cell_type": "code",
   "execution_count": 10,
   "metadata": {},
   "outputs": [],
   "source": [
    "cidade_zona = cidade_zona.loc[:,('unique_id', 'lat', 'lng')]"
   ]
  },
  {
   "cell_type": "markdown",
   "metadata": {},
   "source": [
    "### Importa arquivo de distâncias entre cidades"
   ]
  },
  {
   "cell_type": "code",
   "execution_count": 13,
   "metadata": {},
   "outputs": [],
   "source": [
    "with open('./working_data/cidade_zona_list.pkl', 'rb') as fp:\n",
    "    cidade_zona_list = pickle.load(fp)"
   ]
  },
  {
   "cell_type": "markdown",
   "metadata": {},
   "source": [
    "### Importa arquivo com os vizinhos"
   ]
  },
  {
   "cell_type": "code",
   "execution_count": 15,
   "metadata": {},
   "outputs": [],
   "source": [
    "with open('./working_data/cidade_zona_nb.pkl', 'rb') as fp:\n",
    "    cidade_zona_nb = pickle.load(fp)"
   ]
  },
  {
   "cell_type": "markdown",
   "metadata": {},
   "source": [
    "### Importa arquivo de votação por cidade_zona e eleição"
   ]
  },
  {
   "cell_type": "code",
   "execution_count": 17,
   "metadata": {},
   "outputs": [],
   "source": [
    "votacao = pd.read_csv(\"./working_data/votacao.csv\", sep=\",\")"
   ]
  },
  {
   "cell_type": "code",
   "execution_count": 18,
   "metadata": {},
   "outputs": [],
   "source": [
    "votacao = pd.merge(chave, votacao, on=(\"cod_cidade\", \"numero_zona\"))\n",
    "votacao = votacao.drop(['cod_cidade'], axis=1)\n",
    "votacao = votacao.drop(['numero_zona'], axis=1)"
   ]
  },
  {
   "cell_type": "markdown",
   "metadata": {},
   "source": [
    "### Cria vetor com volumes por unique_id\n",
    "O volume é baseado no número médio de votantes daquela cidade_zona através de todas as eleições que houveram lá."
   ]
  },
  {
   "cell_type": "code",
   "execution_count": 21,
   "metadata": {},
   "outputs": [],
   "source": [
    "volume = votacao.groupby(['unique_id'])['votos'].mean()"
   ]
  },
  {
   "cell_type": "code",
   "execution_count": 22,
   "metadata": {},
   "outputs": [],
   "source": [
    "volume = (volume - min(volume) + 1e-6) / max(volume)"
   ]
  },
  {
   "cell_type": "markdown",
   "metadata": {},
   "source": [
    "### Cria modelo para simulação multi-agente"
   ]
  },
  {
   "cell_type": "code",
   "execution_count": 24,
   "metadata": {},
   "outputs": [],
   "source": [
    "class Model():\n",
    "    def __init__(self, N):\n",
    "        self.num_agents = N\n",
    "        self.space = [None] * N\n",
    "        self.chave = [None] * N\n",
    "        self.index = 0\n",
    "        \n",
    "    def place_agent(self,a):\n",
    "        self.space[self.index] = a\n",
    "        self.chave[self.index] = [self.index, a.unique_id]\n",
    "        self.index += 1\n",
    "        \n",
    "    def get_weights(self):  \n",
    "        for i in range(len(self.space)):\n",
    "            ## Tratamendo dado a cada agente\n",
    "            n = self.space[i].neighbors.shape[0]\n",
    "            weights = np.zeros(n)\n",
    "            n_idx_list = [None] * n\n",
    "            for j in range(n):\n",
    "                n_id = self.space[i].neighbors.index[j]\n",
    "                n_idx = next((i for i, x in enumerate(self.space) if x.unique_id == int(n_id)), None)\n",
    "                n_idx_list[j] = n_idx\n",
    "                distance = self.space[i].neighbors[j] + 1.0\n",
    "                volume = self.space[n_idx].volume\n",
    "                #weight = kappa * (math.exp(-distance/alpha)) + (1 - kappa) * (beta * volume)\n",
    "                weight = (self.space[n_idx].volume) / (np.log10(distance))\n",
    "                weights[j] = weight\n",
    "            weights = weights/sum(weights)\n",
    "            self.space[i].weights = pd.Series(weights, index=self.space[i].neighbors.index)\n",
    "            self.space[i].neighbors_address = n_idx_list\n",
    "            \n",
    "    def get_nb_result(self, a):\n",
    "        nb_idx = self.space[a].neighbors.index\n",
    "        nb_id = self.space[a].neighbors_address\n",
    "        weights = self.space[a].weights \n",
    "        result = np.zeros(self.space[a].result.shape[0])\n",
    "        for i in range(self.space[a].weights.shape[0]):\n",
    "                weight_update = self.space[nb_id[i]].result.values * weights.at[nb_idx[i]]\n",
    "                result = result + weight_update  \n",
    "        return result\n",
    "        \n",
    "    def iterate(self, alpha=1/2, beta=1/2, gamma=5e-3, d_norm=1e-3):        \n",
    "        for a in range(len(self.space)):\n",
    "            ## Para cada agente 'a' \n",
    "            result = self.get_nb_result(a)\n",
    "            self.space[a].step(result, alpha, beta, gamma, d_norm)\n",
    "    \n",
    "    def update_votes(self):\n",
    "        for i in range(len(self.space)):\n",
    "            self.space[i].result = self.space[i].up_result     "
   ]
  },
  {
   "cell_type": "code",
   "execution_count": 25,
   "metadata": {},
   "outputs": [],
   "source": [
    "class Agent():\n",
    "    def __init__(self, unique_id, coordinates, neighbors, result, volume):\n",
    "        self.unique_id = unique_id\n",
    "        self.coordinates = coordinates\n",
    "        self.volume = volume\n",
    "        self.neighbors = neighbors\n",
    "        self.neighbors_address = None\n",
    "        self.weights = None\n",
    "        self.initial = result\n",
    "        self.result = result\n",
    "        self.up_result = result\n",
    "        \n",
    "    def _step(self, nb_result, gamma1, gamma2):\n",
    "        result = ((gamma1 * rnd()) * nb_result) + (gamma2 * rnd()) + self.result.values\n",
    "        result = result / sum(result)\n",
    "        self.up_result = pd.Series(result, index=self.up_result.index)\n",
    "        \n",
    "    def step(self, nb_result, alpha, beta, gamma, d_norm):\n",
    "        epsilon = 1e-6\n",
    "        v = self.result.values\n",
    "        r = alpha*v + (1-alpha)*nb_result\n",
    "        d = np.random.dirichlet((v+epsilon)/d_norm).transpose()\n",
    "        f = np.ones(v.shape[0])*(1/v.shape[0])\n",
    "        p = (1-beta-gamma)*r + beta*d + gamma*f\n",
    "        self.up_result = pd.Series((p/sum(p)), index=self.up_result.index)\n",
    "        "
   ]
  },
  {
   "cell_type": "markdown",
   "metadata": {},
   "source": [
    "### Cria função para executar um modelo"
   ]
  },
  {
   "cell_type": "code",
   "execution_count": 27,
   "metadata": {},
   "outputs": [],
   "source": [
    "def single_run(m, ano_eleicao, votacao, num_iter, alpha, beta, gamma, d_norm, metric):\n",
    "    df = votacao[votacao['ano']==ano_eleicao]\n",
    "    df = df.drop(['ano', 'votos'], axis=1)\n",
    "    df.index = range(df.shape[0])\n",
    "\n",
    "    nrmse_vec = [None] * (num_iter+1)\n",
    "    for i in range(num_iter):\n",
    "        m.iterate(alpha, beta, gamma, d_norm)\n",
    "        nrmse_vec[i] = nrmse(m, ano_eleicao, votacao, df, metric)\n",
    "        m.update_votes()\n",
    "    nrmse_vec[i+1] = m\n",
    "        \n",
    "    return nrmse_vec"
   ]
  },
  {
   "cell_type": "markdown",
   "metadata": {},
   "source": [
    "### Modelo-base para análise"
   ]
  },
  {
   "cell_type": "code",
   "execution_count": 313,
   "metadata": {},
   "outputs": [],
   "source": [
    "ano_eleicao = 2006\n",
    "\n",
    "df = votacao[votacao['ano']==ano_eleicao]\n",
    "df = df.drop(['ano', 'votos'], axis=1)\n",
    "df.index = range(df.shape[0])\n",
    "\n",
    "m = Model(df.shape[0])\n",
    "for i in range(df.shape[0]):\n",
    "    unique_id = df.loc[i, 'unique_id']\n",
    "    a = Agent(unique_id,\n",
    "              cidade_zona[cidade_zona['unique_id']== \\\n",
    "                          df.loc[i, 'unique_id']].loc[:,('lat', 'lng')].values[0],\n",
    "              cidade_zona_nb[[row[0] for row in cidade_zona_nb].index(str(unique_id))][1],\n",
    "              df.iloc[i, 1:36],\n",
    "              volume.at[df.loc[i, 'unique_id']])\n",
    "    m.place_agent(a)\n",
    "\n",
    "m.get_weights()\n",
    "\n",
    "save_object(m, \"./working_data/model_base_2014.pkl\")"
   ]
  },
  {
   "cell_type": "code",
   "execution_count": 28,
   "metadata": {},
   "outputs": [],
   "source": [
    "file_m_sample = open('./working_data/model_base_2006.pkl', 'rb')\n",
    "m_06 = pickle.load(file_m_sample)"
   ]
  },
  {
   "cell_type": "code",
   "execution_count": 312,
   "metadata": {},
   "outputs": [],
   "source": [
    "file_m_sample = open('./working_data/model_base_2010.pkl', 'rb')\n",
    "m_10 = pickle.load(file_m_sample)"
   ]
  },
  {
   "cell_type": "code",
   "execution_count": 314,
   "metadata": {},
   "outputs": [],
   "source": [
    "file_m_sample = open('./working_data/model_base_2014.pkl', 'rb')\n",
    "m_14 = pickle.load(file_m_sample)"
   ]
  },
  {
   "cell_type": "markdown",
   "metadata": {},
   "source": [
    "### Baseline"
   ]
  },
  {
   "cell_type": "code",
   "execution_count": 485,
   "metadata": {},
   "outputs": [],
   "source": [
    "ano_eleicao = 2006"
   ]
  },
  {
   "cell_type": "code",
   "execution_count": 515,
   "metadata": {},
   "outputs": [],
   "source": [
    "#p = results_25111801[5]\n",
    "#single_run(m, ano_eleicao, votacao, max_iter, alpha, beta, gamma, d_norm, 'rmse')\n",
    "m = copy.deepcopy(m_14)\n",
    "r = single_run(m, ano_eleicao, votacao, 3, 0.5, 0.5-0.05, 0.05, 1e-3, 'rmse_g4')"
   ]
  },
  {
   "cell_type": "markdown",
   "metadata": {},
   "source": [
    "### Gráfico: Evolução da distribuição de votos por partido\n",
    "Nesse gráfico estão a média por desvio-padrão de todos os partidos nas eleições de 2006 a 2018"
   ]
  },
  {
   "cell_type": "code",
   "execution_count": 47,
   "metadata": {},
   "outputs": [],
   "source": [
    "# \n",
    "df = votacao.drop(['votos', 'unique_id'], axis=1)\n",
    "df_mean = df.groupby(['ano'], as_index=True).mean().transpose().stack()\n",
    "df_std = df.groupby(['ano'], as_index=True).std().transpose().stack()\n",
    "df = pd.DataFrame([df_mean, df_std]).transpose()\n",
    "df.reset_index(inplace=True)\n",
    "df.columns = ['partido', 'ano', 'mean', 'std']\n",
    "\n",
    "current_palette = sns.color_palette()\n",
    "x = np.linspace(0, 0.2, 100)\n",
    "\n",
    "q_2006 = np.polyfit(df[df['ano']==2006]['mean'].values, df[df['ano']==2006]['std'].values, 2)\n",
    "y_2006 = np.poly1d(q_2006)(x)\n",
    "q_2010 = np.polyfit(df[df['ano']==2010]['mean'].values, df[df['ano']==2010]['std'].values, 2)\n",
    "y_2010 = np.poly1d(q_2010)(x)\n",
    "q_2014 = np.polyfit(df[df['ano']==2014]['mean'].values, df[df['ano']==2014]['std'].values, 2)\n",
    "y_2014 = np.poly1d(q_2014)(x)\n",
    "q_2018 = np.polyfit(df[df['ano']==2018]['mean'].values, df[df['ano']==2018]['std'].values, 2)\n",
    "y_2018 = np.poly1d(q_2018)(x)"
   ]
  },
  {
   "cell_type": "code",
   "execution_count": 49,
   "metadata": {},
   "outputs": [
    {
     "name": "stdout",
     "output_type": "stream",
     "text": [
      "0.9480084816823103\n",
      "0.9613344886062953\n",
      "0.9675730621508765\n",
      "0.9634428227150656\n"
     ]
    }
   ],
   "source": [
    "q_mean = df[df['ano']==2006]['mean'].values\n",
    "q_std = df[df['ano']==2006]['std'].values\n",
    "print(r2_adj(q_std, np.poly1d(q_2006)(q_mean), q_std.shape[0], 2))\n",
    "\n",
    "q_mean = df[df['ano']==2010]['mean'].values\n",
    "q_std = df[df['ano']==2010]['std'].values\n",
    "print(r2_adj(q_std, np.poly1d(q_2010)(q_mean), q_std.shape[0], 2))\n",
    "\n",
    "q_mean = df[df['ano']==2014]['mean'].values\n",
    "q_std = df[df['ano']==2014]['std'].values\n",
    "print(r2_adj(q_std, np.poly1d(q_2014)(q_mean), q_std.shape[0], 2))\n",
    "\n",
    "q_mean = df[df['ano']==2018]['mean'].values\n",
    "q_std = df[df['ano']==2018]['std'].values\n",
    "print(r2_adj(q_std, np.poly1d(q_2018)(q_mean), q_std.shape[0], 2))"
   ]
  },
  {
   "cell_type": "code",
   "execution_count": 276,
   "metadata": {
    "scrolled": true
   },
   "outputs": [
    {
     "data": {
      "image/png": "[encoded data removed]",
      "text/plain": [
       "<Figure size 528.025x360 with 1 Axes>"
      ]
     },
     "metadata": {},
     "output_type": "display_data"
    }
   ],
   "source": [
    "sns.set_context('talk')\n",
    "s = sns.lmplot('mean', 'std', data=df, hue='ano', markers=[\"o\", \"s\", \"X\", \"P\"], \n",
    "               order=2, truncate=True, aspect=1.2, fit_reg=False, ci=None)\n",
    "plt.plot(x, y_2006, color=current_palette[0])\n",
    "plt.text(0.17, 0.15, \"R*^2 = 0.948\", fontsize=12, color=current_palette[0])\n",
    "plt.plot(x, y_2010, color=current_palette[1])\n",
    "plt.text(0.17, 0.125, \"R*^2 = 0.961\", fontsize=12, color=current_palette[1])\n",
    "plt.plot(x, y_2014, color=current_palette[2])\n",
    "plt.text(0.17, 0.08, \"R*^2 = 0.968\", fontsize=12, color=current_palette[2])\n",
    "plt.plot(x, y_2018, color=current_palette[3])\n",
    "plt.text(0.17, 0.016, \"R*^2 = 0.963\", fontsize=12, color=current_palette[3])\n",
    "s.set(xlabel='Mean party vote-share', ylabel='Party vote-share standart deviation')\n",
    "plt.show()"
   ]
  },
  {
   "cell_type": "code",
   "execution_count": 277,
   "metadata": {},
   "outputs": [],
   "source": [
    "s.savefig(\"./working_data/evolucao_quadratica.png\", dpi=400)"
   ]
  },
  {
   "cell_type": "markdown",
   "metadata": {},
   "source": [
    "### Results 01: Definir o número de iterações"
   ]
  },
  {
   "cell_type": "code",
   "execution_count": 135,
   "metadata": {},
   "outputs": [],
   "source": [
    "randomize_grid = {\n",
    "    'alpha': [0.3, 0.4, 0.5, 0.6, 0.7],\n",
    "    'beta': [0.3, 0.4, 0.5, 0.6, 0.7],\n",
    "    'gamma': [0.0, 1e-3, 3e-3, 5e-3, 1e-2, 2e-2],\n",
    "    'd_norm': [5e-4, 1e-3, 5e-3, 1e-2, 5e-2, 1e-1]\n",
    "}"
   ]
  },
  {
   "cell_type": "code",
   "execution_count": 517,
   "metadata": {},
   "outputs": [],
   "source": [
    "n = 50\n",
    "run = 10\n",
    "max_iter = 15\n",
    "np.random.seed(1)"
   ]
  },
  {
   "cell_type": "code",
   "execution_count": 518,
   "metadata": {},
   "outputs": [],
   "source": [
    "nrmse_vec_v = [None]*run\n",
    "results = [None]*n"
   ]
  },
  {
   "cell_type": "code",
   "execution_count": 519,
   "metadata": {
    "scrolled": true
   },
   "outputs": [
    {
     "name": "stdout",
     "output_type": "stream",
     "text": [
      "it:  0 , Demorou:  259.59777641296387 , Resultado:  0.06075641522959432 , Ciclo:  0\n",
      "it:  1 , Demorou:  260.73862743377686 , Resultado:  0.05880671690434308 , Ciclo:  1\n",
      "it:  2 , Demorou:  259.39477467536926 , Resultado:  0.05755976857670928 , Ciclo:  2\n",
      "it:  3 , Demorou:  264.6595256328583 , Resultado:  0.05905893272570981 , Ciclo:  2\n",
      "it:  4 , Demorou:  262.83346724510193 , Resultado:  0.05772774658489797 , Ciclo:  2\n",
      "it:  5 , Demorou:  265.6900362968445 , Resultado:  0.05870488152464602 , Ciclo:  1\n",
      "it:  6 , Demorou:  264.3487846851349 , Resultado:  0.05673431648756984 , Ciclo:  2\n",
      "it:  7 , Demorou:  264.09670400619507 , Resultado:  0.05778660571329438 , Ciclo:  2\n",
      "it:  8 , Demorou:  267.8791620731354 , Resultado:  0.05951083156090792 , Ciclo:  2\n",
      "it:  9 , Demorou:  265.2213878631592 , Resultado:  0.05912411514765894 , Ciclo:  1\n",
      "it:  10 , Demorou:  268.0510597229004 , Resultado:  0.05879733957696191 , Ciclo:  2\n",
      "it:  11 , Demorou:  265.51828479766846 , Resultado:  0.058956681144797005 , Ciclo:  2\n",
      "it:  12 , Demorou:  269.9881634712219 , Resultado:  0.057841642268233094 , Ciclo:  2\n",
      "it:  13 , Demorou:  267.54898715019226 , Resultado:  0.05979268033109455 , Ciclo:  2\n",
      "it:  14 , Demorou:  271.8783190250397 , Resultado:  0.057675966317119166 , Ciclo:  2\n",
      "it:  15 , Demorou:  267.6427731513977 , Resultado:  0.05758001766215781 , Ciclo:  2\n",
      "it:  16 , Demorou:  267.22308230400085 , Resultado:  0.05681194267221691 , Ciclo:  3\n",
      "it:  17 , Demorou:  272.1572759151459 , Resultado:  0.059498879761981406 , Ciclo:  1\n",
      "it:  18 , Demorou:  268.09787797927856 , Resultado:  0.05810893312407868 , Ciclo:  2\n",
      "it:  19 , Demorou:  272.0323030948639 , Resultado:  0.06124213465763047 , Ciclo:  0\n",
      "it:  20 , Demorou:  267.8322789669037 , Resultado:  0.05939906708258872 , Ciclo:  1\n",
      "it:  21 , Demorou:  270.6732978820801 , Resultado:  0.05694842563215008 , Ciclo:  2\n",
      "it:  22 , Demorou:  268.1602988243103 , Resultado:  0.05870660861397962 , Ciclo:  2\n",
      "it:  23 , Demorou:  271.4230742454529 , Resultado:  0.05853434045546067 , Ciclo:  2\n",
      "it:  24 , Demorou:  268.81643438339233 , Resultado:  0.05913919061452649 , Ciclo:  2\n",
      "it:  25 , Demorou:  268.1431872844696 , Resultado:  0.05885382367564661 , Ciclo:  1\n",
      "it:  26 , Demorou:  272.6286759376526 , Resultado:  0.05866109717147279 , Ciclo:  2\n",
      "it:  27 , Demorou:  268.81441164016724 , Resultado:  0.05901874468547259 , Ciclo:  1\n",
      "it:  28 , Demorou:  272.1907117366791 , Resultado:  0.058136714584346084 , Ciclo:  2\n",
      "it:  29 , Demorou:  268.361389875412 , Resultado:  0.05952635211501843 , Ciclo:  2\n",
      "it:  30 , Demorou:  271.3793902397156 , Resultado:  0.058178625161212874 , Ciclo:  1\n",
      "it:  31 , Demorou:  268.5487401485443 , Resultado:  0.05951346986615623 , Ciclo:  1\n",
      "it:  32 , Demorou:  271.9877815246582 , Resultado:  0.05680512812412849 , Ciclo:  2\n",
      "it:  33 , Demorou:  269.73600673675537 , Resultado:  0.05854037972158005 , Ciclo:  1\n",
      "it:  34 , Demorou:  269.20755982398987 , Resultado:  0.05927470097797326 , Ciclo:  2\n",
      "it:  35 , Demorou:  271.98597478866577 , Resultado:  0.05800858191927172 , Ciclo:  3\n",
      "it:  36 , Demorou:  268.8638095855713 , Resultado:  0.0581795886279862 , Ciclo:  1\n",
      "it:  37 , Demorou:  272.39163088798523 , Resultado:  0.05699191061694651 , Ciclo:  2\n",
      "it:  38 , Demorou:  269.14456725120544 , Resultado:  0.059452172826780204 , Ciclo:  1\n",
      "it:  39 , Demorou:  271.9387276172638 , Resultado:  0.06001659236074134 , Ciclo:  1\n",
      "it:  40 , Demorou:  268.4103264808655 , Resultado:  0.05919329721217348 , Ciclo:  2\n",
      "it:  41 , Demorou:  273.4851248264313 , Resultado:  0.05961726303131202 , Ciclo:  1\n",
      "it:  42 , Demorou:  269.94131350517273 , Resultado:  0.05708599272127427 , Ciclo:  3\n",
      "it:  43 , Demorou:  269.7047207355499 , Resultado:  0.058447016259586315 , Ciclo:  1\n",
      "it:  44 , Demorou:  272.0344274044037 , Resultado:  0.05795262372161307 , Ciclo:  2\n",
      "it:  45 , Demorou:  268.39263558387756 , Resultado:  0.059009044284583666 , Ciclo:  1\n",
      "it:  46 , Demorou:  272.45735216140747 , Resultado:  0.05939940883379079 , Ciclo:  1\n",
      "it:  47 , Demorou:  269.40799856185913 , Resultado:  0.05763331649918548 , Ciclo:  2\n",
      "it:  48 , Demorou:  272.3313045501709 , Resultado:  0.0587008074299384 , Ciclo:  1\n",
      "it:  49 , Demorou:  268.9393661022186 , Resultado:  0.05799774168409216 , Ciclo:  1\n"
     ]
    }
   ],
   "source": [
    "for it in range(n):\n",
    "    \n",
    "    st = time.time()    \n",
    "    \n",
    "    ## Realiza 'run' repetidas execuções para cada tupla do grid\n",
    "    ## Para cada execução, roda até 'max_iter' ciclos de atualização de vetor vote-share\n",
    "    for check in range(run):\n",
    "        m = copy.deepcopy(m_06)\n",
    "        alpha, beta, gamma, d_norm = [random.choice(x[1]) for x in list(randomize_grid.items())]\n",
    "        nrmse_vec_v[check] = single_run(m, ano_eleicao, votacao, max_iter, alpha, beta, gamma, d_norm, 'rmse')\n",
    "    \n",
    "    ## Calcula o RMSE\n",
    "    rmse_vec = np.mean([x[:-1] for x in nrmse_vec_v], axis=0)\n",
    "    results[it] = [alpha, beta, gamma, d_norm, rmse_vec]\n",
    "    print(\"it: \", it, \", Demorou: \", time.time()-st, \", Resultado: \", min(results[it][-1]), \n",
    "          \", Ciclo: \", np.argmin(results[it][-1]))"
   ]
  },
  {
   "cell_type": "code",
   "execution_count": 525,
   "metadata": {},
   "outputs": [],
   "source": [
    "resultado_iteracao = pd.DataFrame([np.argmin(x[-1] + 1) for x in results])\n",
    "resultado_iteracao.columns = [\"count\"]"
   ]
  },
  {
   "cell_type": "code",
   "execution_count": 531,
   "metadata": {},
   "outputs": [],
   "source": [
    "resultado_iteracao['count'] = resultado_iteracao['count'] + 1"
   ]
  },
  {
   "cell_type": "code",
   "execution_count": 532,
   "metadata": {
    "scrolled": true
   },
   "outputs": [
    {
     "data": {
      "text/plain": [
       "[Text(0,0.5,'Count'), Text(0.5,0,'Number of cycles')]"
      ]
     },
     "execution_count": 532,
     "metadata": {},
     "output_type": "execute_result"
    },
    {
     "data": {
      "image/png": "[encoded data removed]",
      "text/plain": [
       "<Figure size 504x360 with 1 Axes>"
      ]
     },
     "metadata": {},
     "output_type": "display_data"
    }
   ],
   "source": [
    "fig, ax = plt.subplots(figsize=(7,5))\n",
    "sns.set(style=\"ticks\")\n",
    "sns.set_context('talk')\n",
    "ax = sns.countplot(x='count', data=resultado_iteracao)\n",
    "ax.set(xlabel='Number of cycles', ylabel='Count')\n",
    "#plt.show()"
   ]
  },
  {
   "cell_type": "code",
   "execution_count": 523,
   "metadata": {},
   "outputs": [],
   "source": [
    "save_object(results, \"./working_data/results_num_iter.pkl\")"
   ]
  },
  {
   "cell_type": "code",
   "execution_count": 533,
   "metadata": {},
   "outputs": [],
   "source": [
    "fig.savefig(\"./working_data/number_of_iterations.png\", dpi=400)"
   ]
  },
  {
   "cell_type": "markdown",
   "metadata": {},
   "source": [
    "### Results 02: Gera busca exaustiva para o D e Gamma"
   ]
  },
  {
   "cell_type": "code",
   "execution_count": 230,
   "metadata": {},
   "outputs": [],
   "source": [
    "grid = {\n",
    "    'alpha': [0.5],\n",
    "    'beta': [0.5],\n",
    "    'gamma': [0.0, 1e-3, 5e-3, 1e-2, 5e-2, 1e-1],\n",
    "    'd_norm': [1e-6, 1e-4, 5e-4, 1e-3, 5e-3, 5e-2]\n",
    "}"
   ]
  },
  {
   "cell_type": "code",
   "execution_count": 231,
   "metadata": {},
   "outputs": [],
   "source": [
    "allNames = sorted(grid)\n",
    "grid = itertools.product(*(grid[Name] for Name in allNames))\n",
    "grid = list(grid)\n",
    "np.random.seed(1)\n",
    "n = len(grid)\n",
    "run = 3\n",
    "results = [None]*n"
   ]
  },
  {
   "cell_type": "code",
   "execution_count": 232,
   "metadata": {
    "scrolled": false
   },
   "outputs": [
    {
     "name": "stdout",
     "output_type": "stream",
     "text": [
      "it:  0 , Demorou:  21.276284217834473 , Resultado:  0.05609456294346415 , Ciclo:  2\n",
      "it:  1 , Demorou:  19.698561668395996 , Resultado:  0.05604492483689583 , Ciclo:  2\n",
      "it:  2 , Demorou:  21.041929006576538 , Resultado:  0.055851132350675216 , Ciclo:  2\n",
      "it:  3 , Demorou:  19.72980570793152 , Resultado:  0.05562749418413742 , Ciclo:  2\n",
      "it:  4 , Demorou:  20.245275020599365 , Resultado:  0.054528981508014523 , Ciclo:  2\n",
      "it:  5 , Demorou:  20.028722286224365 , Resultado:  0.05420343515058157 , Ciclo:  1\n",
      "it:  6 , Demorou:  20.05781388282776 , Resultado:  0.056100888950310034 , Ciclo:  2\n",
      "it:  7 , Demorou:  20.10468077659607 , Resultado:  0.05605184530468501 , Ciclo:  2\n",
      "it:  8 , Demorou:  19.979759454727173 , Resultado:  0.05586194467898148 , Ciclo:  2\n",
      "it:  9 , Demorou:  19.99536895751953 , Resultado:  0.05563796536839741 , Ciclo:  2\n",
      "it:  10 , Demorou:  20.24527668952942 , Resultado:  0.05453516542895991 , Ciclo:  2\n",
      "it:  11 , Demorou:  20.02653670310974 , Resultado:  0.054209892988764295 , Ciclo:  1\n",
      "it:  12 , Demorou:  20.566328287124634 , Resultado:  0.056141141104434494 , Ciclo:  2\n",
      "it:  13 , Demorou:  20.19842553138733 , Resultado:  0.056086683691278984 , Ciclo:  2\n",
      "it:  14 , Demorou:  20.04223656654358 , Resultado:  0.055893103206511724 , Ciclo:  2\n",
      "it:  15 , Demorou:  20.151545524597168 , Resultado:  0.055662106925950604 , Ciclo:  2\n",
      "it:  16 , Demorou:  20.2765212059021 , Resultado:  0.05456610475137316 , Ciclo:  2\n",
      "it:  17 , Demorou:  20.042155027389526 , Resultado:  0.05422825871415355 , Ciclo:  1\n",
      "it:  18 , Demorou:  20.463973999023438 , Resultado:  0.05619128781342581 , Ciclo:  2\n",
      "it:  19 , Demorou:  20.089097023010254 , Resultado:  0.056129963798422965 , Ciclo:  2\n",
      "it:  20 , Demorou:  20.073405981063843 , Resultado:  0.05595354139060996 , Ciclo:  2\n",
      "it:  21 , Demorou:  20.32547402381897 , Resultado:  0.05573475628492749 , Ciclo:  2\n",
      "it:  22 , Demorou:  20.26089572906494 , Resultado:  0.05460070395625641 , Ciclo:  2\n",
      "it:  23 , Demorou:  20.22968864440918 , Resultado:  0.054237556628040084 , Ciclo:  1\n",
      "it:  24 , Demorou:  20.16713309288025 , Resultado:  0.056555099348940874 , Ciclo:  2\n",
      "it:  25 , Demorou:  20.214031457901 , Resultado:  0.05651827433087942 , Ciclo:  2\n",
      "it:  26 , Demorou:  20.042235374450684 , Resultado:  0.056318050077893256 , Ciclo:  2\n",
      "it:  27 , Demorou:  20.05778217315674 , Resultado:  0.05605707035394489 , Ciclo:  2\n",
      "it:  28 , Demorou:  20.307794094085693 , Resultado:  0.05489607936231087 , Ciclo:  2\n",
      "it:  29 , Demorou:  20.12129497528076 , Resultado:  0.05445698265544571 , Ciclo:  1\n",
      "it:  30 , Demorou:  20.23079776763916 , Resultado:  0.06001344322091598 , Ciclo:  1\n",
      "it:  31 , Demorou:  20.135889768600464 , Resultado:  0.05980992149537299 , Ciclo:  1\n",
      "it:  32 , Demorou:  20.08906388282776 , Resultado:  0.05966900123434349 , Ciclo:  1\n",
      "it:  33 , Demorou:  20.104716062545776 , Resultado:  0.059440827321136536 , Ciclo:  1\n",
      "it:  34 , Demorou:  20.29210352897644 , Resultado:  0.05773875844904702 , Ciclo:  1\n",
      "it:  35 , Demorou:  20.120303869247437 , Resultado:  0.056321612365528774 , Ciclo:  1\n"
     ]
    }
   ],
   "source": [
    "for it in range(n):\n",
    "    st = time.time()\n",
    "    nrmse_vec_v = [None]*run\n",
    "    for check in range(run):\n",
    "        m = copy.deepcopy(m_06)\n",
    "        nrmse_vec_v[check] = single_run(m, ano_eleicao, votacao, 3, \n",
    "                                        grid[it][0], 0.5-grid[it][3], grid[it][3], grid[it][2], 'rmse')\n",
    "        if check==0:\n",
    "            m_result = pd.DataFrame([x.result for x in m.space])\n",
    "        else:\n",
    "            m_result = m_result + pd.DataFrame([x.result for x in m.space])\n",
    "    m_result = m_result/run\n",
    "    m_result = [m_result.mean().values, m_result.std().values]\n",
    "    \n",
    "    nrmse_vec = np.mean([x[:-1] for x in nrmse_vec_v], axis=0)\n",
    "    results[it] = [grid[it][0], grid[it][1], grid[it][3], grid[it][2], m_result, nrmse_vec]\n",
    "    print(\"it: \", it, \", Demorou: \", time.time()-st, \", Resultado: \", min(results[it][-1]), \n",
    "          \", Ciclo: \", np.argmin(results[it][-1]))"
   ]
  },
  {
   "cell_type": "code",
   "execution_count": 234,
   "metadata": {},
   "outputs": [],
   "source": [
    "r_rmse = pd.DataFrame([[x[2] for x in results], \n",
    "                       [x[3] for x in results], \n",
    "                       [x[5][-1] for x in results]]).transpose()\n",
    "r_rmse.columns = ['gamma', 'd', 'rmse']"
   ]
  },
  {
   "cell_type": "code",
   "execution_count": 235,
   "metadata": {},
   "outputs": [],
   "source": [
    "r_rmse.rmse = r_rmse.rmse*100"
   ]
  },
  {
   "cell_type": "code",
   "execution_count": 293,
   "metadata": {},
   "outputs": [
    {
     "data": {
      "image/png": "[encoded data removed]",
      "text/plain": [
       "<Figure size 504x360 with 1 Axes>"
      ]
     },
     "metadata": {},
     "output_type": "display_data"
    }
   ],
   "source": [
    "palette = sns.color_palette(\"bright\", 6)\n",
    "f, ax = plt.subplots(figsize=(7, 5))\n",
    "sns.lineplot('d', 'rmse', data=r_rmse, hue='gamma', legend='full', palette=palette)\n",
    "ax.set(xscale=\"log\")\n",
    "ax.set(xlabel='Coefficient D', ylabel='RMSE (%)')\n",
    "plt.tight_layout()"
   ]
  },
  {
   "cell_type": "code",
   "execution_count": 284,
   "metadata": {},
   "outputs": [
    {
     "data": {
      "image/png": "[encoded data removed]",
      "text/plain": [
       "<Figure size 504x360 with 1 Axes>"
      ]
     },
     "execution_count": 284,
     "metadata": {},
     "output_type": "execute_result"
    }
   ],
   "source": [
    "f"
   ]
  },
  {
   "cell_type": "code",
   "execution_count": 294,
   "metadata": {},
   "outputs": [],
   "source": [
    "f.savefig(\"./working_data/d_gamma_grid_search.png\", dpi=400)"
   ]
  },
  {
   "cell_type": "markdown",
   "metadata": {},
   "source": [
    "### Results 03: Comportamento quadrático do modelo"
   ]
  },
  {
   "cell_type": "code",
   "execution_count": 241,
   "metadata": {},
   "outputs": [],
   "source": [
    "##\n",
    "r_k = 20\n",
    "r_coeffs = pd.DataFrame([np.polyfit(x[4][0], x[4][1], 2) for x in results], columns=['a', 'b', 'c'])\n",
    "r_parties = pd.DataFrame([results[r_k][4][0],results[r_k][4][1]]).transpose()\n",
    "r_parties.columns=['mean', 'std']\n",
    "x = np.linspace(0, 0.2, 100)\n",
    "y = np.poly1d(r_coeffs.iloc[r_k].values)(x)"
   ]
  },
  {
   "cell_type": "code",
   "execution_count": 309,
   "metadata": {
    "scrolled": false
   },
   "outputs": [
    {
     "data": {
      "image/png": "[encoded data removed]",
      "text/plain": [
       "<Figure size 504x360 with 1 Axes>"
      ]
     },
     "metadata": {},
     "output_type": "display_data"
    }
   ],
   "source": [
    "f, ax = plt.subplots(figsize=(7, 5))\n",
    "p1 = plt.plot(x, y, color='r')\n",
    "plt.scatter(r_parties['mean'].values, r_parties['std'].values, marker='o', color='r')\n",
    "p2 = plt.plot(x, y_2010, color='k')\n",
    "plt.scatter(df[df['ano']==2010]['mean'].values, df[df['ano']==2010]['std'].values, marker='*', color='k')\n",
    "plt.xlabel('Mean party vote-share')\n",
    "plt.ylabel('STD party vote-share')\n",
    "plt.legend((p2[0], p1[0]), ('Real', 'Model'))\n",
    "plt.tight_layout()"
   ]
  },
  {
   "cell_type": "code",
   "execution_count": 310,
   "metadata": {},
   "outputs": [],
   "source": [
    "f.savefig(\"./working_data/quad_real_proj.png\", dpi=400)"
   ]
  },
  {
   "cell_type": "markdown",
   "metadata": {},
   "source": [
    "### Tabela de resultados para melhor set de variaveis"
   ]
  },
  {
   "cell_type": "code",
   "execution_count": 232,
   "metadata": {
    "scrolled": false
   },
   "outputs": [
    {
     "name": "stdout",
     "output_type": "stream",
     "text": [
      "it:  0 , Demorou:  21.276284217834473 , Resultado:  0.05609456294346415 , Ciclo:  2\n",
      "it:  1 , Demorou:  19.698561668395996 , Resultado:  0.05604492483689583 , Ciclo:  2\n",
      "it:  2 , Demorou:  21.041929006576538 , Resultado:  0.055851132350675216 , Ciclo:  2\n",
      "it:  3 , Demorou:  19.72980570793152 , Resultado:  0.05562749418413742 , Ciclo:  2\n",
      "it:  4 , Demorou:  20.245275020599365 , Resultado:  0.054528981508014523 , Ciclo:  2\n",
      "it:  5 , Demorou:  20.028722286224365 , Resultado:  0.05420343515058157 , Ciclo:  1\n",
      "it:  6 , Demorou:  20.05781388282776 , Resultado:  0.056100888950310034 , Ciclo:  2\n",
      "it:  7 , Demorou:  20.10468077659607 , Resultado:  0.05605184530468501 , Ciclo:  2\n",
      "it:  8 , Demorou:  19.979759454727173 , Resultado:  0.05586194467898148 , Ciclo:  2\n",
      "it:  9 , Demorou:  19.99536895751953 , Resultado:  0.05563796536839741 , Ciclo:  2\n",
      "it:  10 , Demorou:  20.24527668952942 , Resultado:  0.05453516542895991 , Ciclo:  2\n",
      "it:  11 , Demorou:  20.02653670310974 , Resultado:  0.054209892988764295 , Ciclo:  1\n",
      "it:  12 , Demorou:  20.566328287124634 , Resultado:  0.056141141104434494 , Ciclo:  2\n",
      "it:  13 , Demorou:  20.19842553138733 , Resultado:  0.056086683691278984 , Ciclo:  2\n",
      "it:  14 , Demorou:  20.04223656654358 , Resultado:  0.055893103206511724 , Ciclo:  2\n",
      "it:  15 , Demorou:  20.151545524597168 , Resultado:  0.055662106925950604 , Ciclo:  2\n",
      "it:  16 , Demorou:  20.2765212059021 , Resultado:  0.05456610475137316 , Ciclo:  2\n",
      "it:  17 , Demorou:  20.042155027389526 , Resultado:  0.05422825871415355 , Ciclo:  1\n",
      "it:  18 , Demorou:  20.463973999023438 , Resultado:  0.05619128781342581 , Ciclo:  2\n",
      "it:  19 , Demorou:  20.089097023010254 , Resultado:  0.056129963798422965 , Ciclo:  2\n",
      "it:  20 , Demorou:  20.073405981063843 , Resultado:  0.05595354139060996 , Ciclo:  2\n",
      "it:  21 , Demorou:  20.32547402381897 , Resultado:  0.05573475628492749 , Ciclo:  2\n",
      "it:  22 , Demorou:  20.26089572906494 , Resultado:  0.05460070395625641 , Ciclo:  2\n",
      "it:  23 , Demorou:  20.22968864440918 , Resultado:  0.054237556628040084 , Ciclo:  1\n",
      "it:  24 , Demorou:  20.16713309288025 , Resultado:  0.056555099348940874 , Ciclo:  2\n",
      "it:  25 , Demorou:  20.214031457901 , Resultado:  0.05651827433087942 , Ciclo:  2\n",
      "it:  26 , Demorou:  20.042235374450684 , Resultado:  0.056318050077893256 , Ciclo:  2\n",
      "it:  27 , Demorou:  20.05778217315674 , Resultado:  0.05605707035394489 , Ciclo:  2\n",
      "it:  28 , Demorou:  20.307794094085693 , Resultado:  0.05489607936231087 , Ciclo:  2\n",
      "it:  29 , Demorou:  20.12129497528076 , Resultado:  0.05445698265544571 , Ciclo:  1\n",
      "it:  30 , Demorou:  20.23079776763916 , Resultado:  0.06001344322091598 , Ciclo:  1\n",
      "it:  31 , Demorou:  20.135889768600464 , Resultado:  0.05980992149537299 , Ciclo:  1\n",
      "it:  32 , Demorou:  20.08906388282776 , Resultado:  0.05966900123434349 , Ciclo:  1\n",
      "it:  33 , Demorou:  20.104716062545776 , Resultado:  0.059440827321136536 , Ciclo:  1\n",
      "it:  34 , Demorou:  20.29210352897644 , Resultado:  0.05773875844904702 , Ciclo:  1\n",
      "it:  35 , Demorou:  20.120303869247437 , Resultado:  0.056321612365528774 , Ciclo:  1\n"
     ]
    }
   ],
   "source": [
    "run = 5\n",
    "st = time.time()\n",
    "nrmse_vec_v = [None]*run\n",
    "\n",
    "for check in range(run):\n",
    "    m = copy.deepcopy(m_06)\n",
    "    nrmse_vec_v[check] = single_run(m, ano_eleicao, votacao, 3, \n",
    "                                    0.5, 0.5-0.05, 0.05, 1e-3, 'rmse_g4')\n",
    "    if check==0:\n",
    "        m_result = pd.DataFrame([x.result for x in m.space])\n",
    "    else:\n",
    "        m_result = m_result + pd.DataFrame([x.result for x in m.space])\n",
    "m_result = m_result/run\n",
    "m_result = [m_result.mean().values, m_result.std().values]\n",
    "\n",
    "nrmse_vec = np.mean([x[:-1] for x in nrmse_vec_v], axis=0)\n",
    "results[it] = [grid[it][0], grid[it][1], grid[it][3], grid[it][2], m_result, nrmse_vec]\n",
    "print(\"it: \", it, \", Demorou: \", time.time()-st, \", Resultado: \", min(results[it][-1]), \n",
    "      \", Ciclo: \", np.argmin(results[it][-1]))"
   ]
  },
  {
   "cell_type": "code",
   "execution_count": null,
   "metadata": {},
   "outputs": [],
   "source": []
  },
  {
   "cell_type": "code",
   "execution_count": null,
   "metadata": {},
   "outputs": [],
   "source": []
  },
  {
   "cell_type": "code",
   "execution_count": null,
   "metadata": {},
   "outputs": [],
   "source": []
  },
  {
   "cell_type": "code",
   "execution_count": null,
   "metadata": {},
   "outputs": [],
   "source": []
  },
  {
   "cell_type": "code",
   "execution_count": null,
   "metadata": {},
   "outputs": [],
   "source": []
  },
  {
   "cell_type": "code",
   "execution_count": null,
   "metadata": {},
   "outputs": [],
   "source": []
  },
  {
   "cell_type": "code",
   "execution_count": null,
   "metadata": {},
   "outputs": [],
   "source": []
  },
  {
   "cell_type": "code",
   "execution_count": null,
   "metadata": {},
   "outputs": [],
   "source": []
  },
  {
   "cell_type": "code",
   "execution_count": null,
   "metadata": {},
   "outputs": [],
   "source": []
  },
  {
   "cell_type": "code",
   "execution_count": null,
   "metadata": {},
   "outputs": [],
   "source": []
  },
  {
   "cell_type": "code",
   "execution_count": null,
   "metadata": {},
   "outputs": [],
   "source": []
  },
  {
   "cell_type": "code",
   "execution_count": null,
   "metadata": {},
   "outputs": [],
   "source": []
  },
  {
   "cell_type": "code",
   "execution_count": null,
   "metadata": {},
   "outputs": [],
   "source": []
  },
  {
   "cell_type": "code",
   "execution_count": null,
   "metadata": {},
   "outputs": [],
   "source": []
  },
  {
   "cell_type": "code",
   "execution_count": null,
   "metadata": {},
   "outputs": [],
   "source": []
  },
  {
   "cell_type": "code",
   "execution_count": null,
   "metadata": {},
   "outputs": [],
   "source": []
  },
  {
   "cell_type": "code",
   "execution_count": null,
   "metadata": {},
   "outputs": [],
   "source": []
  },
  {
   "cell_type": "code",
   "execution_count": null,
   "metadata": {},
   "outputs": [],
   "source": []
  },
  {
   "cell_type": "code",
   "execution_count": null,
   "metadata": {},
   "outputs": [],
   "source": []
  },
  {
   "cell_type": "code",
   "execution_count": null,
   "metadata": {},
   "outputs": [],
   "source": []
  },
  {
   "cell_type": "markdown",
   "metadata": {},
   "source": [
    "### Código para salvar e carregar modelos"
   ]
  },
  {
   "cell_type": "code",
   "execution_count": null,
   "metadata": {},
   "outputs": [],
   "source": [
    "save_object(results, \"./working_data/results_varying_d_g0.pkl\")"
   ]
  },
  {
   "cell_type": "code",
   "execution_count": null,
   "metadata": {},
   "outputs": [],
   "source": [
    "file_m_sample = open('./working_data/model_sample.pkl', 'rb')\n",
    "m_sample = pickle.load(file_m_sample)"
   ]
  }
 ],
 "metadata": {
  "kernelspec": {
   "display_name": "Python 3",
   "language": "python",
   "name": "python3"
  },
  "language_info": {
   "codemirror_mode": {
    "name": "ipython",
    "version": 3
   },
   "file_extension": ".py",
   "mimetype": "text/x-python",
   "name": "python",
   "nbconvert_exporter": "python",
   "pygments_lexer": "ipython3",
   "version": "3.7.0"
  }
 },
 "nbformat": 4,
 "nbformat_minor": 2
}
